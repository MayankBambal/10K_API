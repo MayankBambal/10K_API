{
 "cells": [
  {
   "cell_type": "code",
   "execution_count": 4,
   "metadata": {},
   "outputs": [],
   "source": [
    "import pandas as pd"
   ]
  },
  {
   "cell_type": "code",
   "execution_count": 1,
   "metadata": {},
   "outputs": [],
   "source": [
    "from getciks import get_company_data_with_sic\n",
    "\n",
    "headers = {'User-Agent': \"mbambal@purdue.edu\"}\n",
    "\n",
    "sic_mapping_file = '/Users/mayankbambal/Desktop/10K_API/data/mapping/company_tickers.csv'\n",
    "\n",
    "company_data = get_company_data_with_sic(sic_mapping_file, headers)"
   ]
  },
  {
   "cell_type": "code",
   "execution_count": 2,
   "metadata": {},
   "outputs": [],
   "source": [
    "# Get user input\n",
    "\n",
    "sic_code = input(\"Enter SIC code: \")\n",
    "user_start = int(input(\"Enter start period (YYYY): \"))\n",
    "user_end = int(input(\"Enter end period (YYYY): \"))"
   ]
  },
  {
   "cell_type": "code",
   "execution_count": 3,
   "metadata": {},
   "outputs": [],
   "source": [
    "from datadownloader import fetch_sec_facts_by_sic\n",
    "data_10k = fetch_sec_facts_by_sic(company_data, sic_code, headers, user_start, user_end, limit=2)"
   ]
  },
  {
   "cell_type": "code",
   "execution_count": null,
   "metadata": {},
   "outputs": [],
   "source": []
  }
 ],
 "metadata": {
  "kernelspec": {
   "display_name": ".venv",
   "language": "python",
   "name": "python3"
  },
  "language_info": {
   "codemirror_mode": {
    "name": "ipython",
    "version": 3
   },
   "file_extension": ".py",
   "mimetype": "text/x-python",
   "name": "python",
   "nbconvert_exporter": "python",
   "pygments_lexer": "ipython3",
   "version": "3.13.2"
  }
 },
 "nbformat": 4,
 "nbformat_minor": 2
}
